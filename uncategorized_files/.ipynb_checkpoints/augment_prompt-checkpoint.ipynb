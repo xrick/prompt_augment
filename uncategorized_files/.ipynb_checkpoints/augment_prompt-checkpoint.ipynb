{
 "cells": [
  {
   "cell_type": "markdown",
   "id": "ce2c7f7d-3d6d-4243-91fe-1958de78ae9b",
   "metadata": {},
   "source": [
    "```mermaid\n",
    "graph TD\n",
    "    A[原始技術問答] --> B{正規化處理}\n",
    "    B -->|統一格式| C[向量化引擎]\n",
    "    C --> D{參數映射}\n",
    "    D -->|本地化術語| E[使用者介面]\n",
    "    E --> F[[技術支援工程師]]\n",
    "    E --> G[[終端使用者]]\n",
    "```"
   ]
  },
  {
   "cell_type": "code",
   "execution_count": 1,
   "id": "e3d5799a-0f35-4693-88e3-c24d9c087034",
   "metadata": {},
   "outputs": [
    {
     "name": "stderr",
     "output_type": "stream",
     "text": [
      "/home/rickliao/miniconda3/envs/llmenv/lib/python3.11/site-packages/tqdm/auto.py:21: TqdmWarning: IProgress not found. Please update jupyter and ipywidgets. See https://ipywidgets.readthedocs.io/en/stable/user_install.html\n",
      "  from .autonotebook import tqdm as notebook_tqdm\n"
     ]
    }
   ],
   "source": [
    "import pandas as pd\n",
    "import dspy\n",
    "import logging\n",
    "# logging.basicConfig(level=logging.DEBUG)  # 顯示完整HTTP流量\n",
    "# import faiss "
   ]
  },
  {
   "cell_type": "code",
   "execution_count": 25,
   "id": "745092a9-083b-4736-b12c-0d355f5468ec",
   "metadata": {},
   "outputs": [],
   "source": [
    "# from langchain_huggingface import HuggingFaceEmbeddings\n",
    "# from sentence_transformers import SentenceTransformer\n",
    "# import faiss\n",
    "import os"
   ]
  },
  {
   "cell_type": "markdown",
   "id": "233952ce-d2a1-4ade-846d-fe0dbb8aa411",
   "metadata": {},
   "source": [
    "### read the qa csv file"
   ]
  },
  {
   "cell_type": "code",
   "execution_count": 20,
   "id": "9251fd5d-dc07-48ff-9d39-f4b14c2f6865",
   "metadata": {},
   "outputs": [],
   "source": [
    "def read_qa_csv_to_list(csv_file:str=None,qKey=\"Question\",qAns=\"Answer\"):\n",
    "    df = pd.read_csv(csv_file)\n",
    "    # 合併重複問題的答案\n",
    "    df_clean = df.groupby(qKey)[qAns].apply(lambda x: '\\n'.join(x.unique())).reset_index()\n",
    "    # 正規化代碼格式\n",
    "    \"\"\"\n",
    "    這是一個使用正則表達式的字串替換操作。目的是將Answer欄位中的參數設定格式標準化。\n",
    "    例如，將類似\"PcdCfgPeApmEnable = 0\"中的空格去除，變成\"PcdCfgPeApmEnable=0\"。\n",
    "    這樣做的好處是統一格式，避免後續處理時因格式不一致導致問題，比如在檢索或解析時無法正確識別參數和數值。\n",
    "    \"\"\"\n",
    "    df_clean[qAns] = df_clean[qAns].str.replace(r'(\\w+)\\s*=\\s*(\\d+)', r'\\1=\\2', regex=True)\n",
    "    # 提取文本數據\n",
    "    questions = df_clean[qKey].str.strip().tolist()\n",
    "    answers = df_clean[qAns].str.strip().tolist()\n",
    "    return questions, answers"
   ]
  },
  {
   "cell_type": "code",
   "execution_count": 31,
   "id": "e0d60fe9-c985-4276-b662-2934b6ce6f8e",
   "metadata": {},
   "outputs": [],
   "source": [
    "TAG_Pattern=\"\"\"\n",
    "Task:{task},\n",
    "Action:{action},\n",
    "Goal:{goal}\n",
    "\"\"\"\n",
    "CICD_Pattern=\"\"\"\n",
    "Context:{context},\n",
    "Instructions:{instructions},\n",
    "\n",
    "\"\"\""
   ]
  },
  {
   "cell_type": "code",
   "execution_count": null,
   "id": "40bf2036-ac98-4fb5-a61a-d1edb8af8e8b",
   "metadata": {},
   "outputs": [],
   "source": []
  },
  {
   "cell_type": "code",
   "execution_count": 21,
   "id": "45afbd5e-8321-4b22-86c0-17f8e8061348",
   "metadata": {},
   "outputs": [],
   "source": [
    "#將讀出 資料轉成list\n",
    "q_lst, v_lst =read_qa_csv_to_list(\"./qa.csv\")"
   ]
  },
  {
   "cell_type": "code",
   "execution_count": 17,
   "id": "baa132c7-7675-4894-9299-dc9edea91e92",
   "metadata": {},
   "outputs": [
    {
     "name": "stdout",
     "output_type": "stream",
     "text": [
      "模型回答：There were approximately 28 emperors during the Tang Dynasty.\n"
     ]
    }
   ],
   "source": [
    "#使用dspy連接deepseek-r1 LLM\n",
    "# lm = dspy.LM('deepseek/deepseek-r1', api_base='http://localhost:11434/v1', headers={} )\n",
    "# dspy.configure(lm=lm)\n",
    "# qa = dspy.Predict('question -> answer')\n",
    "# response = qa(question=\"are you built by openAI or Deepseek?\")\n",
    "# print(response.answer)\n",
    "#######################################\n",
    "local_config = {\n",
    "    \"api_base\": \"http://localhost:11434/v1\",  # 注意需加/v1路徑\n",
    "    \"api_key\": \"NULL\",  # 特殊標記用於跳過驗證\n",
    "    \"model\": \"deepseek-r1:7b\",\n",
    "    \"custom_llm_provider\":\"deepseek\"\n",
    "}\n",
    "\n",
    "dspy.configure(\n",
    "    lm=dspy.LM(\n",
    "        **local_config\n",
    "    )\n",
    ")\n",
    "# 測試問答\n",
    "qa = dspy.Predict('question -> answer')\n",
    "response = qa(question=\"中國唐朝有幾任皇帝?\")\n",
    "print(f\"模型回答：{response.answer}\")"
   ]
  },
  {
   "cell_type": "code",
   "execution_count": 18,
   "id": "08c2d583-8f9c-4425-b96f-2e745f369c0f",
   "metadata": {},
   "outputs": [],
   "source": [
    "# lm(\"為什麼天空是藍色的？\")"
   ]
  },
  {
   "cell_type": "code",
   "execution_count": null,
   "id": "974d06e7-d8b7-472a-9fee-25a3b6aa2ec6",
   "metadata": {},
   "outputs": [],
   "source": []
  },
  {
   "cell_type": "code",
   "execution_count": 26,
   "id": "b5937192-7607-4a7e-b24c-c69e0315602c",
   "metadata": {},
   "outputs": [
    {
     "name": "stdout",
     "output_type": "stream",
     "text": [
      "upper dir path is ./augmented/20250220_1\n"
     ]
    }
   ],
   "source": [
    "save_root_dir=\"./augmented/\"\n",
    "save_sub_dir = \"20250220_1\"\n",
    "upper_path = os.path.join(save_root_dir,save_sub_dir)\n",
    "print(f\"upper dir path is {upper_path}\")\n",
    "cnt = 10\n",
    "tmpprompt1 = \"\"\"\n",
    "please generate variatins for the following sentence: \n",
    "{}\n",
    "\"\"\"\n",
    "tmpprompt2 = \"\"\"\n",
    "generating more variations which are at least {} word longer than the following sentence: \n",
    "{}\n",
    "\"\"\""
   ]
  },
  {
   "cell_type": "code",
   "execution_count": null,
   "id": "f62a3c36-eb6c-423a-9f8a-5dd0aa40aa6a",
   "metadata": {},
   "outputs": [],
   "source": [
    "def do_aug_prompt(q_list:list=None, ans_list:list=None, num_of_rows:int=5, upper_path:str=None):\n",
    "    for i in range(num_of_rows):\n",
    "        save_dir_name = os.path.join(upper_path, f\"aug_prompt_{i+1}\");\n",
    "        os.mkdir(save_dir_name);\n",
    "        "
   ]
  },
  {
   "cell_type": "code",
   "execution_count": 27,
   "id": "44e2fedc-6e18-46ac-abc6-f041a000276d",
   "metadata": {},
   "outputs": [],
   "source": [
    "# for i in range(cnt):\n",
    "#     save_dir_name = os.path.join(upper_path, f\"aug_prompt_{i+1}\");\n",
    "    \n",
    "    # print(f\"{i+1}. {q_lst[i]}:\\n{v_lst[i]}\")"
   ]
  }
 ],
 "metadata": {
  "kernelspec": {
   "display_name": "Python 3 (ipykernel)",
   "language": "python",
   "name": "python3"
  },
  "language_info": {
   "codemirror_mode": {
    "name": "ipython",
    "version": 3
   },
   "file_extension": ".py",
   "mimetype": "text/x-python",
   "name": "python",
   "nbconvert_exporter": "python",
   "pygments_lexer": "ipython3",
   "version": "3.11.11"
  }
 },
 "nbformat": 4,
 "nbformat_minor": 5
}
