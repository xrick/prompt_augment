{
 "cells": [
  {
   "cell_type": "code",
   "execution_count": 41,
   "id": "e3fed5e1-c7bc-4b77-bd3e-bfd3ac276075",
   "metadata": {},
   "outputs": [],
   "source": [
    "# !pip install langchain-huggingface"
   ]
  },
  {
   "cell_type": "code",
   "execution_count": 2,
   "id": "ceef6460-59bb-4990-bb2a-9a6dce03073b",
   "metadata": {},
   "outputs": [
    {
     "name": "stderr",
     "output_type": "stream",
     "text": [
      "/home/rickliao/miniconda3/envs/llmenv/lib/python3.11/site-packages/tqdm/auto.py:21: TqdmWarning: IProgress not found. Please update jupyter and ipywidgets. See https://ipywidgets.readthedocs.io/en/stable/user_install.html\n",
      "  from .autonotebook import tqdm as notebook_tqdm\n"
     ]
    }
   ],
   "source": [
    "import pandas as pd\n",
    "from langchain_community.vectorstores import FAISS\n",
    "# from langchain_community.embeddings import HuggingFaceEmbeddings\n",
    "from langchain_huggingface import HuggingFaceEmbeddings\n",
    "from sentence_transformers import SentenceTransformer\n",
    "import faiss"
   ]
  },
  {
   "cell_type": "code",
   "execution_count": 3,
   "id": "3ab366ca-9641-44d8-a187-5cc432d0bd6b",
   "metadata": {},
   "outputs": [],
   "source": [
    "# !pip install langchain-community langchain-core"
   ]
  },
  {
   "cell_type": "code",
   "execution_count": 4,
   "id": "2bbf3510-0971-44d2-b9e1-cdc9626b19ab",
   "metadata": {},
   "outputs": [],
   "source": [
    "# def process_excel(excel_file=None, save_file=None):\n",
    "#     try:\n",
    "#         # 讀取 Excel 檔案\n",
    "#         df = pd.read_excel(excel_file)\n",
    "        \n",
    "#         # 只選取需要的欄位\n",
    "#         selected_columns = ['Idx', 'Question', 'Answer']\n",
    "#         df_selected = df[selected_columns]\n",
    "        \n",
    "#         # 移除空值的列\n",
    "#         df_selected = df_selected.dropna(how='all')\n",
    "        \n",
    "#         # 儲存為 CSV 檔案，使用逗號作為分隔符號\n",
    "#         # output_file = 'processed_issues.csv'\n",
    "#         df_selected.to_csv(save_file, index=False, encoding='utf-8')\n",
    "        \n",
    "#         print(f'成功將資料儲存至 {save_file}')\n",
    "        \n",
    "#     except Exception as e:\n",
    "#         print(f'處理過程中發生錯誤: {str(e)}')\n"
   ]
  },
  {
   "cell_type": "code",
   "execution_count": 5,
   "id": "b2f28496-b637-4da9-a15b-1d7f1bfbed29",
   "metadata": {},
   "outputs": [],
   "source": [
    "# 'issue checklist_all_1226a4_0204_146_MOD.xlsx'\n",
    "# if __name__ == \"__main__\":\n",
    "#     _save_path = \"./qa.csv\"\n",
    "#     _excel_file = \"./checklist_all_1226a4_0204_146_MOD.xlsx\"\n",
    "#     process_excel(excel_file=_excel_file, save_file=_save_path)"
   ]
  },
  {
   "cell_type": "code",
   "execution_count": null,
   "id": "005e5184-dbf4-4dbb-9ed6-d67efe092a8e",
   "metadata": {},
   "outputs": [],
   "source": []
  },
  {
   "cell_type": "code",
   "execution_count": 6,
   "id": "e72d4363-41cc-455e-b415-2976edd6098d",
   "metadata": {},
   "outputs": [],
   "source": [
    "# 建立參數映射表：\n",
    "\"\"\"\n",
    "這裡建立了一個字典，將技術參數名稱映射到中文描述。這樣做的目的是提高可讀性，\n",
    "讓非技術人員或需要本地化的使用者更容易理解參數的實際功能。例如，\n",
    "在檢索結果中顯示“電源管理開關”而不是原始的參數名稱，有助於快速理解。\n",
    "\n",
    "需要考慮用戶的場景，他們處理的是技術問答數據，涉及BIOS/EC設定，\n",
    "參數名稱通常複雜且不易理解。因此，格式標準化和參數映射是提升系統可用性的重要步驟。\n",
    "此外，這些處理能增強向量化後的一致性，提高檢索的準確性，因為統一的格式和清晰的參數描述有助於模型更好地理解內容。\n",
    "\"\"\"\n",
    "param_mapping = {\n",
    "\"PcdCfgPeApmEnable\": \"電源管理開關\",\n",
    "\"gEfiAmdAgesaPkgTokenSpaceGuid.PcdAcpController\": \"音頻控制器配置\"\n",
    "}"
   ]
  },
  {
   "cell_type": "code",
   "execution_count": 1,
   "id": "06ee78de-93ac-48f6-80cb-faa8ee95c058",
   "metadata": {},
   "outputs": [],
   "source": [
    "def embeddingQA_from_csv(csv_file=None,qKey=\"Question\", qAns=\"Answer\"):\n",
    "    df = pd.read_csv(csv_file)\n",
    "    # 合併重複問題的答案\n",
    "    df_clean = df.groupby(qKey)[qAns].apply(lambda x: '\\n'.join(x.unique())).reset_index()\n",
    "    # 正規化代碼格式\n",
    "    \"\"\"\n",
    "    這是一個使用正則表達式的字串替換操作。目的是將Answer欄位中的參數設定格式標準化。\n",
    "    例如，將類似\"PcdCfgPeApmEnable = 0\"中的空格去除，變成\"PcdCfgPeApmEnable=0\"。\n",
    "    這樣做的好處是統一格式，避免後續處理時因格式不一致導致問題，比如在檢索或解析時無法正確識別參數和數值。\n",
    "    \"\"\"\n",
    "    df_clean[qAns] = df_clean[qAns].str.replace(r'(\\w+)\\s*=\\s*(\\d+)', r'\\1=\\2', regex=True)\n",
    "    # 提取文本數據\n",
    "    questions = df_clean[qKey].str.strip().tolist()\n",
    "    answers = df_clean[qAns].str.strip().tolist()\n",
    "    model = SentenceTransformer(\"paraphrase-multilingual-MiniLM-L12-v2\")\n",
    "    question_embeddings = model.encode(\n",
    "        questions,\n",
    "        convert_to_tensor=False,\n",
    "        show_progress_bar=True\n",
    "    )\n",
    "    print(question_embeddings.shape)\n",
    "    dimension = question_embeddings.shape[1]#(#__1)  # 向量維度(通常為384/768)\n",
    "    quantizer = faiss.IndexFlatL2(dimension)\n",
    "    index = faiss.IndexIVFFlat(quantizer, dimension, 100)\n",
    "    index.train(question_embeddings)\n",
    "    index.add(question_embeddings)\n",
    "    faiss.write_index(index, \"qa_index_.faiss\")\n",
    "    #integrated with langchain\n",
    "    # 創建元數據結構\n",
    "    metadatas = [{\n",
    "        \"answer\": ans, \n",
    "        \"source\": \"內部技術資料庫\",\n",
    "        \"last_updated\": \"2025-02\"\n",
    "    } for ans in answers]\n",
    "    # 建立可持久化向量庫\n",
    "    vector_db = FAISS.from_embeddings(\n",
    "        text_embeddings=list(zip(questions, question_embeddings)),\n",
    "        embedding=HuggingFaceEmbeddings(model_name=\"sentence-transformers/paraphrase-multilingual-mpnet-base-v2\"),\n",
    "        metadatas=metadatas\n",
    "    )\n",
    "    # 保存完整向量庫\n",
    "    vector_db.save_local(\"tech_support_faiss\")"
   ]
  },
  {
   "cell_type": "code",
   "execution_count": 8,
   "id": "be947d0d-cffc-40ba-8b2e-3d8df90f409c",
   "metadata": {},
   "outputs": [],
   "source": [
    "# embeddingQA_from_csv(\"qa.csv\")"
   ]
  },
  {
   "cell_type": "code",
   "execution_count": 45,
   "id": "c53bbe57-8a28-4bb2-9e8f-da40fa26d53f",
   "metadata": {},
   "outputs": [
    {
     "data": {
      "text/plain": [
       "'\\nimport faiss\\nimport numpy as np\\n\\ndef load_faiss_index(index_path):\\n    #載入預訓練的FAISS索引\\n    try:\\n        index = faiss.read_index(index_path)\\n        print(f\"成功載入FAISS索引，包含 {index.ntotal} 個向量\")\\n        return index\\n    except Exception as e:\\n        print(f\"索引載入失敗: {str(e)}\")\\n        return None\\n\\n# 使用示例\\nindex = load_faiss_index(\"tech_support_index.faiss\")\\n\\n\\nfrom langchain_community.vectorstores import FAISS\\nfrom langchain_community.embeddings import HuggingFaceEmbeddings\\n\\ndef load_vector_db(db_folder):\\n    #載入完整的向量資料庫\\n    embeddings = HuggingFaceEmbeddings(\\n        model_name=\"sentence-transformers/paraphrase-multilingual-mpnet-base-v2\"\\n    )\\n    \\n    try:\\n        db = FAISS.load_local(\\n            folder_path=db_folder,\\n            embeddings=embeddings,\\n            allow_dangerous_deserialization=True  # 必要安全參數\\n        )\\n        print(f\"載入成功，共 {db.index.ntotal} 筆技術問答\")\\n        return db\\n    except Exception as e:\\n        print(f\"向量庫載入異常: {str(e)}\")\\n        return None\\n\\n# 使用示例\\nvector_db = load_vector_db(\"tech_support_faiss\")\\n\\n'"
      ]
     },
     "execution_count": 45,
     "metadata": {},
     "output_type": "execute_result"
    }
   ],
   "source": [
    "\"\"\"\n",
    "import faiss\n",
    "import numpy as np\n",
    "\n",
    "def load_faiss_index(index_path):\n",
    "    #載入預訓練的FAISS索引\n",
    "    try:\n",
    "        index = faiss.read_index(index_path)\n",
    "        print(f\"成功載入FAISS索引，包含 {index.ntotal} 個向量\")\n",
    "        return index\n",
    "    except Exception as e:\n",
    "        print(f\"索引載入失敗: {str(e)}\")\n",
    "        return None\n",
    "\n",
    "# 使用示例\n",
    "index = load_faiss_index(\"tech_support_index.faiss\")\n",
    "\n",
    "\n",
    "from langchain_community.vectorstores import FAISS\n",
    "from langchain_community.embeddings import HuggingFaceEmbeddings\n",
    "\n",
    "def load_vector_db(db_folder):\n",
    "    #載入完整的向量資料庫\n",
    "    embeddings = HuggingFaceEmbeddings(\n",
    "        model_name=\"sentence-transformers/paraphrase-multilingual-mpnet-base-v2\"\n",
    "    )\n",
    "    \n",
    "    try:\n",
    "        db = FAISS.load_local(\n",
    "            folder_path=db_folder,\n",
    "            embeddings=embeddings,\n",
    "            allow_dangerous_deserialization=True  # 必要安全參數\n",
    "        )\n",
    "        print(f\"載入成功，共 {db.index.ntotal} 筆技術問答\")\n",
    "        return db\n",
    "    except Exception as e:\n",
    "        print(f\"向量庫載入異常: {str(e)}\")\n",
    "        return None\n",
    "\n",
    "# 使用示例\n",
    "vector_db = load_vector_db(\"tech_support_faiss\")\n",
    "\n",
    "\"\"\""
   ]
  },
  {
   "cell_type": "code",
   "execution_count": null,
   "id": "a77ef256-c602-4b58-8b48-7f5e47775844",
   "metadata": {},
   "outputs": [],
   "source": [
    "# 動態加載映射表\n",
    "def load_parameter_mappings(config_path):\n",
    "    with open(config_path, 'r', encoding='utf-8') as f:\n",
    "        return json.load(f)\n"
   ]
  },
  {
   "cell_type": "code",
   "execution_count": 11,
   "id": "b52fc531-12e5-4159-8866-d047c9d33020",
   "metadata": {},
   "outputs": [],
   "source": [
    "def read_embedding_and_query(idx_path=None, local_db_path=None):\n",
    "    load_index(idx_path=idx_path);\n",
    "    load_local_db(local_db_path=local_db_path);\n",
    "\n",
    "def load_index(idx_path=None):\n",
    "    #載入預訓練的FAISS索引\n",
    "    try:\n",
    "        index = faiss.read_index(idx_path)\n",
    "        print(f\"成功載入FAISS索引，包含 {index.ntotal} 個向量\")\n",
    "        return index\n",
    "    except Exception as e:\n",
    "        print(f\"索引載入失敗: {str(e)}\")\n",
    "        return None\n",
    "\n",
    "def load_local_db(local_db_path=None):\n",
    "    #載入完整的向量資料庫\n",
    "    embeddings = HuggingFaceEmbeddings(\n",
    "        model_name=\"sentence-transformers/paraphrase-multilingual-mpnet-base-v2\"\n",
    "    )\n",
    "    try:\n",
    "        db = FAISS.load_local(\n",
    "            folder_path=local_db_path,\n",
    "            embeddings=embeddings,\n",
    "            allow_dangerous_deserialization=True  # 必要安全參數\n",
    "        )\n",
    "        print(f\"載入成功，共 {db.index.ntotal} 筆技術問答\")\n",
    "        return db\n",
    "    except Exception as e:\n",
    "        print(f\"向量庫載入異常: {str(e)}\")\n",
    "        return None\n",
    "    "
   ]
  },
  {
   "cell_type": "code",
   "execution_count": 12,
   "id": "7184609a-efaf-4a9c-83ea-c3f487441576",
   "metadata": {},
   "outputs": [
    {
     "name": "stdout",
     "output_type": "stream",
     "text": [
      "成功載入FAISS索引，包含 145 個向量\n",
      "載入成功，共 145 筆技術問答\n"
     ]
    }
   ],
   "source": [
    "_idx_path = \"./qa_index.faiss\"\n",
    "_local_db = \"./tech_support_faiss/\"\n",
    "read_embedding_and_query(idx_path=_idx_path,local_db_path=_local_db)"
   ]
  },
  {
   "cell_type": "code",
   "execution_count": null,
   "id": "ad6701c1-d102-40be-8c74-a7bceea0e94d",
   "metadata": {},
   "outputs": [],
   "source": []
  }
 ],
 "metadata": {
  "kernelspec": {
   "display_name": "Python 3 (ipykernel)",
   "language": "python",
   "name": "python3"
  },
  "language_info": {
   "codemirror_mode": {
    "name": "ipython",
    "version": 3
   },
   "file_extension": ".py",
   "mimetype": "text/x-python",
   "name": "python",
   "nbconvert_exporter": "python",
   "pygments_lexer": "ipython3",
   "version": "3.9.20"
  }
 },
 "nbformat": 4,
 "nbformat_minor": 5
}
