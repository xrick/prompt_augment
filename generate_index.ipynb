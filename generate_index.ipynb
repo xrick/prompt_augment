{
 "cells": [
  {
   "cell_type": "code",
   "execution_count": 13,
   "id": "91d07051-61c7-4854-8db4-029b3657b299",
   "metadata": {},
   "outputs": [],
   "source": [
    "import numpy as np\n",
    "import faiss\n",
    "from sentence_transformers import SentenceTransformer\n",
    "from tqdm import tqdm\n",
    "import pandas as pd\n",
    "from langchain_community.vectorstores import FAISS"
   ]
  },
  {
   "cell_type": "code",
   "execution_count": 16,
   "id": "0242e863-742b-4b7a-8d8d-9813b8487031",
   "metadata": {},
   "outputs": [],
   "source": [
    "def create_faiss_index(questions, model_name=\"sentence-transformers/paraphrase-multilingual-mpnet-base-v2\", index_path=\"./db/qa_index_new.faiss\"):\n",
    "    \"\"\"\n",
    "    建立 FAISS 索引\n",
    "    \n",
    "    參數:\n",
    "    questions: list of str - 問題列表\n",
    "    model_name: str - 使用的模型名稱\n",
    "    index_path: str - 索引儲存路徑\n",
    "    \"\"\"\n",
    "    # 初始化模型\n",
    "    model = SentenceTransformer(model_name)\n",
    "    \n",
    "    # 生成嵌入向量\n",
    "    print(\"正在生成問題嵌入向量...\")\n",
    "    question_embeddings = []\n",
    "    batch_size = 32\n",
    "    \n",
    "    for i in tqdm(range(0, len(questions), batch_size)):\n",
    "        batch = questions[i:i + batch_size]\n",
    "        embeddings = model.encode(batch, convert_to_tensor=True)\n",
    "        question_embeddings.append(embeddings.cpu().numpy())\n",
    "    \n",
    "    question_embeddings = np.vstack(question_embeddings)\n",
    "    \n",
    "    # 確保向量類型為 float32\n",
    "    question_embeddings = question_embeddings.astype(np.float32)\n",
    "    \n",
    "    # 獲取向量維度\n",
    "    dimension = question_embeddings.shape[1]  # 對於 mpnet-base-v2 應該是 768\n",
    "    print(f\"向量維度: {dimension}\")\n",
    "    \n",
    "    # 建立 FAISS 索引\n",
    "    print(\"建立 FAISS 索引...\")\n",
    "    quantizer = faiss.IndexFlatL2(dimension)\n",
    "    index = faiss.IndexIVFFlat(quantizer, dimension, 100)  # 100 是聚類中心數量\n",
    "    \n",
    "    # 訓練索引\n",
    "    print(\"訓練索引...\")\n",
    "    index.train(question_embeddings)\n",
    "    \n",
    "    # 添加向量到索引\n",
    "    print(\"添加向量到索引...\")\n",
    "    index.add(question_embeddings)\n",
    "    \n",
    "    # 儲存索引\n",
    "    print(f\"儲存索引到 {index_path}\")\n",
    "    faiss.write_index(index, index_path)\n",
    "    \n",
    "    print(f\"索引建立完成，共包含 {index.ntotal} 個向量\")\n",
    "    return index\n",
    "\n",
    "# 使用示例\n",
    "def main():\n",
    "    # 假設你有一個問題列表\n",
    "    # questions = [\n",
    "    #     \"如何處理系統錯誤？\",\n",
    "    #     \"如何重置密碼？\",\n",
    "    #     # ... 更多問題\n",
    "    # ]\n",
    "    qKey = \"Question\"\n",
    "    qAns = \"Answer\"\n",
    "    df = pd.read_csv(\"./data/qa.csv\")\n",
    "    df_clean = df.groupby(qKey)[qAns].apply(lambda x: '\\n'.join(x.unique())).reset_index()\n",
    "    df_clean[qAns] = df_clean[qAns].str.replace(r'(\\w+)\\s*=\\s*(\\d+)', r'\\1=\\2', regex=True)\n",
    "    questions = df_clean[qKey].str.strip().tolist()\n",
    "    answers = df_clean[qAns].str.strip().tolist()\n",
    "    model = SentenceTransformer(\"sentence-transformers/paraphrase-multilingual-mpnet-base-v2\")\n",
    "    question_embeddings = model.encode(\n",
    "        questions,\n",
    "        convert_to_tensor=False,\n",
    "        show_progress_bar=True\n",
    "    )\n",
    "    print(question_embeddings.shape)\n",
    "    dimension = question_embeddings.shape[1]#(#__1)  # 向量維度(通常為384/768)\n",
    "    index = faiss.IndexFlatL2(dimension)\n",
    "    # quantizer = faiss.IndexFlatL2(dimension)\n",
    "    # index = faiss.IndexIVFFlat(quantizer, dimension, 3900)\n",
    "    # index.train(question_embeddings)\n",
    "    index.add(question_embeddings)\n",
    "    faiss.write_index(index, \"./db2/q_index.faiss\")\n",
    "    print(\"index created and saved\");\n",
    "    # 建立Answer Vector DB\n",
    "    metadatas = [{\n",
    "        \"answer\": ans, \n",
    "        \"source\": \"內部技術資料庫\",\n",
    "        \"last_updated\": \"2025-02\"\n",
    "    } for ans in answers]\n",
    "    # 建立可持久化向量庫\n",
    "    vector_db = FAISS.from_embeddings(\n",
    "        text_embeddings=list(zip(questions, question_embeddings)),\n",
    "        embedding=SentenceTransformer(\"sentence-transformers/paraphrase-multilingual-mpnet-base-v2\"),\n",
    "        metadatas=metadatas\n",
    "    )\n",
    "    # 保存完整向量庫\n",
    "    vector_db.save_local(\"./db2/qa_vecdb_faiss_new\")\n",
    "    print(\"vector db saved\")\n",
    "    \n",
    "\n",
    "# if __name__ == \"__main__\":\n",
    "#     main()\n"
   ]
  },
  {
   "cell_type": "code",
   "execution_count": 17,
   "id": "ed361dfe-00d5-4c36-87d4-47ef687f3929",
   "metadata": {},
   "outputs": [
    {
     "name": "stderr",
     "output_type": "stream",
     "text": [
      "Batches: 100%|████████████████████████████████████████████████████████████████████████████████████████████████████████████████████████████████| 5/5 [00:00<00:00, 26.30it/s]\n"
     ]
    },
    {
     "name": "stdout",
     "output_type": "stream",
     "text": [
      "(145, 768)\n",
      "index created and saved\n"
     ]
    },
    {
     "name": "stderr",
     "output_type": "stream",
     "text": [
      "`embedding_function` is expected to be an Embeddings object, support for passing in a function will soon be removed.\n"
     ]
    },
    {
     "name": "stdout",
     "output_type": "stream",
     "text": [
      "vector db saved\n"
     ]
    }
   ],
   "source": [
    "main()"
   ]
  },
  {
   "cell_type": "code",
   "execution_count": null,
   "id": "38032f88-ccb4-4388-87ef-fccbb11e8c9d",
   "metadata": {},
   "outputs": [],
   "source": []
  }
 ],
 "metadata": {
  "kernelspec": {
   "display_name": "Python 3 (ipykernel)",
   "language": "python",
   "name": "python3"
  },
  "language_info": {
   "codemirror_mode": {
    "name": "ipython",
    "version": 3
   },
   "file_extension": ".py",
   "mimetype": "text/x-python",
   "name": "python",
   "nbconvert_exporter": "python",
   "pygments_lexer": "ipython3",
   "version": "3.9.20"
  }
 },
 "nbformat": 4,
 "nbformat_minor": 5
}
