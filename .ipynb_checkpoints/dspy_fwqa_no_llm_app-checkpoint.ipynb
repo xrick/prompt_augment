{
 "cells": [
  {
   "cell_type": "code",
   "execution_count": 31,
   "id": "fc683aa6-8190-4d72-978f-6aaffadfad88",
   "metadata": {},
   "outputs": [],
   "source": [
    "import dspy\n",
    "import faiss\n",
    "import numpy as np\n",
    "from transformers import AutoTokenizer, AutoModelForCausalLM\n",
    "import torch\n",
    "from sentence_transformers import SentenceTransformer\n",
    "from langchain.vectorstores import FAISS as LangchainFAISS\n",
    "from langchain_huggingface import HuggingFaceEmbeddings\n",
    "# from langchain.embeddings import HuggingFaceEmbeddings\n",
    "# from langchain_community.vectorstores import FAISS"
   ]
  },
  {
   "cell_type": "code",
   "execution_count": null,
   "id": "9e5eb4cf-2c75-4f39-85ae-fd2b0c524fe7",
   "metadata": {},
   "outputs": [],
   "source": []
  },
  {
   "cell_type": "code",
   "execution_count": 32,
   "id": "0557d3af-ebb9-4eb2-9be1-5c11369d2ba3",
   "metadata": {},
   "outputs": [],
   "source": [
    "# !pip install dspy-ai transformers torch faiss-cpu sentence-transformers langchain"
   ]
  },
  {
   "cell_type": "code",
   "execution_count": 33,
   "id": "fe4687d7-1179-4730-bd5d-ffc39d2a898a",
   "metadata": {},
   "outputs": [
    {
     "name": "stdout",
     "output_type": "stream",
     "text": [
      "成功載入FAISS索引，包含 145 個向量\n",
      "載入成功，共 145 筆技術問答\n"
     ]
    },
    {
     "data": {
      "application/vnd.jupyter.widget-view+json": {
       "model_id": "3fab22c7cb5343a8bf56e0b76126ea06",
       "version_major": 2,
       "version_minor": 0
      },
      "text/plain": [
       "Batches:   0%|          | 0/1 [00:00<?, ?it/s]"
      ]
     },
     "metadata": {},
     "output_type": "display_data"
    },
    {
     "ename": "AssertionError",
     "evalue": "",
     "output_type": "error",
     "traceback": [
      "\u001b[0;31m---------------------------------------------------------------------------\u001b[0m",
      "\u001b[0;31mAssertionError\u001b[0m                            Traceback (most recent call last)",
      "Cell \u001b[0;32mIn[33], line 100\u001b[0m\n\u001b[1;32m     96\u001b[0m     \u001b[38;5;66;03m# except Exception as e:\u001b[39;00m\n\u001b[1;32m     97\u001b[0m     \u001b[38;5;66;03m#     print(f\"錯誤: {str(e)}\")\u001b[39;00m\n\u001b[1;32m     99\u001b[0m \u001b[38;5;28;01mif\u001b[39;00m \u001b[38;5;18m__name__\u001b[39m \u001b[38;5;241m==\u001b[39m \u001b[38;5;124m\"\u001b[39m\u001b[38;5;124m__main__\u001b[39m\u001b[38;5;124m\"\u001b[39m:\n\u001b[0;32m--> 100\u001b[0m     \u001b[43mmain\u001b[49m\u001b[43m(\u001b[49m\u001b[43m)\u001b[49m\n",
      "Cell \u001b[0;32mIn[33], line 88\u001b[0m, in \u001b[0;36mmain\u001b[0;34m()\u001b[0m\n\u001b[1;32m     86\u001b[0m \u001b[38;5;66;03m# Test question\u001b[39;00m\n\u001b[1;32m     87\u001b[0m question \u001b[38;5;241m=\u001b[39m \u001b[38;5;124m\"\u001b[39m\u001b[38;5;124mhow to deal with system error?\u001b[39m\u001b[38;5;124m\"\u001b[39m\n\u001b[0;32m---> 88\u001b[0m results \u001b[38;5;241m=\u001b[39m \u001b[43msearch_similar_questions\u001b[49m\u001b[43m(\u001b[49m\u001b[43mretriever\u001b[49m\u001b[43m,\u001b[49m\u001b[43m \u001b[49m\u001b[43mquestion\u001b[49m\u001b[43m)\u001b[49m\n\u001b[1;32m     90\u001b[0m \u001b[38;5;28mprint\u001b[39m(\u001b[38;5;124mf\u001b[39m\u001b[38;5;124m\"\u001b[39m\u001b[38;5;124m問題: \u001b[39m\u001b[38;5;132;01m{\u001b[39;00mquestion\u001b[38;5;132;01m}\u001b[39;00m\u001b[38;5;124m\"\u001b[39m)\n\u001b[1;32m     91\u001b[0m \u001b[38;5;28mprint\u001b[39m(\u001b[38;5;124m\"\u001b[39m\u001b[38;5;130;01m\\n\u001b[39;00m\u001b[38;5;124m相關文件:\u001b[39m\u001b[38;5;124m\"\u001b[39m)\n",
      "Cell \u001b[0;32mIn[33], line 75\u001b[0m, in \u001b[0;36msearch_similar_questions\u001b[0;34m(retriever, question)\u001b[0m\n\u001b[1;32m     74\u001b[0m \u001b[38;5;28;01mdef\u001b[39;00m\u001b[38;5;250m \u001b[39m\u001b[38;5;21msearch_similar_questions\u001b[39m(retriever, question):\n\u001b[0;32m---> 75\u001b[0m     results \u001b[38;5;241m=\u001b[39m \u001b[43mretriever\u001b[49m\u001b[43m(\u001b[49m\u001b[43mquestion\u001b[49m\u001b[43m)\u001b[49m\n\u001b[1;32m     76\u001b[0m     \u001b[38;5;28;01mreturn\u001b[39;00m results\u001b[38;5;241m.\u001b[39mpassages\n",
      "Cell \u001b[0;32mIn[33], line 56\u001b[0m, in \u001b[0;36mCustomFAISSRetriever.__call__\u001b[0;34m(self, query)\u001b[0m\n\u001b[1;32m     49\u001b[0m query_embedding \u001b[38;5;241m=\u001b[39m \u001b[38;5;28mself\u001b[39m\u001b[38;5;241m.\u001b[39mmodel\u001b[38;5;241m.\u001b[39mencode(\n\u001b[1;32m     50\u001b[0m     query,\n\u001b[1;32m     51\u001b[0m     convert_to_tensor\u001b[38;5;241m=\u001b[39m\u001b[38;5;28;01mTrue\u001b[39;00m,\n\u001b[1;32m     52\u001b[0m     show_progress_bar\u001b[38;5;241m=\u001b[39m\u001b[38;5;28;01mTrue\u001b[39;00m\n\u001b[1;32m     53\u001b[0m )\n\u001b[1;32m     55\u001b[0m \u001b[38;5;66;03m# Search in vector DB\u001b[39;00m\n\u001b[0;32m---> 56\u001b[0m docs \u001b[38;5;241m=\u001b[39m \u001b[38;5;28;43mself\u001b[39;49m\u001b[38;5;241;43m.\u001b[39;49m\u001b[43mvector_db\u001b[49m\u001b[38;5;241;43m.\u001b[39;49m\u001b[43msimilarity_search_with_score\u001b[49m\u001b[43m(\u001b[49m\u001b[43mquery\u001b[49m\u001b[43m,\u001b[49m\u001b[43m \u001b[49m\u001b[43mk\u001b[49m\u001b[38;5;241;43m=\u001b[39;49m\u001b[38;5;28;43mself\u001b[39;49m\u001b[38;5;241;43m.\u001b[39;49m\u001b[43mk\u001b[49m\u001b[43m)\u001b[49m\n\u001b[1;32m     58\u001b[0m \u001b[38;5;66;03m# Format results\u001b[39;00m\n\u001b[1;32m     59\u001b[0m passages \u001b[38;5;241m=\u001b[39m []\n",
      "File \u001b[0;32m~/miniconda3/envs/llmenv/lib/python3.11/site-packages/langchain_community/vectorstores/faiss.py:516\u001b[0m, in \u001b[0;36mFAISS.similarity_search_with_score\u001b[0;34m(self, query, k, filter, fetch_k, **kwargs)\u001b[0m\n\u001b[1;32m    499\u001b[0m \u001b[38;5;250m\u001b[39m\u001b[38;5;124;03m\"\"\"Return docs most similar to query.\u001b[39;00m\n\u001b[1;32m    500\u001b[0m \n\u001b[1;32m    501\u001b[0m \u001b[38;5;124;03mArgs:\u001b[39;00m\n\u001b[0;32m   (...)\u001b[0m\n\u001b[1;32m    513\u001b[0m \u001b[38;5;124;03m    L2 distance in float. Lower score represents more similarity.\u001b[39;00m\n\u001b[1;32m    514\u001b[0m \u001b[38;5;124;03m\"\"\"\u001b[39;00m\n\u001b[1;32m    515\u001b[0m embedding \u001b[38;5;241m=\u001b[39m \u001b[38;5;28mself\u001b[39m\u001b[38;5;241m.\u001b[39m_embed_query(query)\n\u001b[0;32m--> 516\u001b[0m docs \u001b[38;5;241m=\u001b[39m \u001b[38;5;28;43mself\u001b[39;49m\u001b[38;5;241;43m.\u001b[39;49m\u001b[43msimilarity_search_with_score_by_vector\u001b[49m\u001b[43m(\u001b[49m\n\u001b[1;32m    517\u001b[0m \u001b[43m    \u001b[49m\u001b[43membedding\u001b[49m\u001b[43m,\u001b[49m\n\u001b[1;32m    518\u001b[0m \u001b[43m    \u001b[49m\u001b[43mk\u001b[49m\u001b[43m,\u001b[49m\n\u001b[1;32m    519\u001b[0m \u001b[43m    \u001b[49m\u001b[38;5;28;43mfilter\u001b[39;49m\u001b[38;5;241;43m=\u001b[39;49m\u001b[38;5;28;43mfilter\u001b[39;49m\u001b[43m,\u001b[49m\n\u001b[1;32m    520\u001b[0m \u001b[43m    \u001b[49m\u001b[43mfetch_k\u001b[49m\u001b[38;5;241;43m=\u001b[39;49m\u001b[43mfetch_k\u001b[49m\u001b[43m,\u001b[49m\n\u001b[1;32m    521\u001b[0m \u001b[43m    \u001b[49m\u001b[38;5;241;43m*\u001b[39;49m\u001b[38;5;241;43m*\u001b[39;49m\u001b[43mkwargs\u001b[49m\u001b[43m,\u001b[49m\n\u001b[1;32m    522\u001b[0m \u001b[43m\u001b[49m\u001b[43m)\u001b[49m\n\u001b[1;32m    523\u001b[0m \u001b[38;5;28;01mreturn\u001b[39;00m docs\n",
      "File \u001b[0;32m~/miniconda3/envs/llmenv/lib/python3.11/site-packages/langchain_community/vectorstores/faiss.py:417\u001b[0m, in \u001b[0;36mFAISS.similarity_search_with_score_by_vector\u001b[0;34m(self, embedding, k, filter, fetch_k, **kwargs)\u001b[0m\n\u001b[1;32m    415\u001b[0m \u001b[38;5;28;01mif\u001b[39;00m \u001b[38;5;28mself\u001b[39m\u001b[38;5;241m.\u001b[39m_normalize_L2:\n\u001b[1;32m    416\u001b[0m     faiss\u001b[38;5;241m.\u001b[39mnormalize_L2(vector)\n\u001b[0;32m--> 417\u001b[0m scores, indices \u001b[38;5;241m=\u001b[39m \u001b[38;5;28;43mself\u001b[39;49m\u001b[38;5;241;43m.\u001b[39;49m\u001b[43mindex\u001b[49m\u001b[38;5;241;43m.\u001b[39;49m\u001b[43msearch\u001b[49m\u001b[43m(\u001b[49m\u001b[43mvector\u001b[49m\u001b[43m,\u001b[49m\u001b[43m \u001b[49m\u001b[43mk\u001b[49m\u001b[43m \u001b[49m\u001b[38;5;28;43;01mif\u001b[39;49;00m\u001b[43m \u001b[49m\u001b[38;5;28;43mfilter\u001b[39;49m\u001b[43m \u001b[49m\u001b[38;5;129;43;01mis\u001b[39;49;00m\u001b[43m \u001b[49m\u001b[38;5;28;43;01mNone\u001b[39;49;00m\u001b[43m \u001b[49m\u001b[38;5;28;43;01melse\u001b[39;49;00m\u001b[43m \u001b[49m\u001b[43mfetch_k\u001b[49m\u001b[43m)\u001b[49m\n\u001b[1;32m    418\u001b[0m docs \u001b[38;5;241m=\u001b[39m []\n\u001b[1;32m    420\u001b[0m \u001b[38;5;28;01mif\u001b[39;00m \u001b[38;5;28mfilter\u001b[39m \u001b[38;5;129;01mis\u001b[39;00m \u001b[38;5;129;01mnot\u001b[39;00m \u001b[38;5;28;01mNone\u001b[39;00m:\n",
      "File \u001b[0;32m~/miniconda3/envs/llmenv/lib/python3.11/site-packages/faiss/class_wrappers.py:329\u001b[0m, in \u001b[0;36mhandle_Index.<locals>.replacement_search\u001b[0;34m(self, x, k, params, D, I)\u001b[0m\n\u001b[1;32m    327\u001b[0m n, d \u001b[38;5;241m=\u001b[39m x\u001b[38;5;241m.\u001b[39mshape\n\u001b[1;32m    328\u001b[0m x \u001b[38;5;241m=\u001b[39m np\u001b[38;5;241m.\u001b[39mascontiguousarray(x, dtype\u001b[38;5;241m=\u001b[39m\u001b[38;5;124m'\u001b[39m\u001b[38;5;124mfloat32\u001b[39m\u001b[38;5;124m'\u001b[39m)\n\u001b[0;32m--> 329\u001b[0m \u001b[38;5;28;01massert\u001b[39;00m d \u001b[38;5;241m==\u001b[39m \u001b[38;5;28mself\u001b[39m\u001b[38;5;241m.\u001b[39md\n\u001b[1;32m    331\u001b[0m \u001b[38;5;28;01massert\u001b[39;00m k \u001b[38;5;241m>\u001b[39m \u001b[38;5;241m0\u001b[39m\n\u001b[1;32m    333\u001b[0m \u001b[38;5;28;01mif\u001b[39;00m D \u001b[38;5;129;01mis\u001b[39;00m \u001b[38;5;28;01mNone\u001b[39;00m:\n",
      "\u001b[0;31mAssertionError\u001b[0m: "
     ]
    }
   ],
   "source": [
    "# 1. Custom Retriever for DSPy that uses your existing FAISS setup\n",
    "class CustomFAISSRetriever(dspy.Retrieve):\n",
    "    def load_index(self, idx_path=None):\n",
    "    #載入預訓練的FAISS索引\n",
    "        try:\n",
    "            index = faiss.read_index(idx_path)\n",
    "            print(f\"成功載入FAISS索引，包含 {index.ntotal} 個向量\")\n",
    "            return index\n",
    "        except Exception as e:\n",
    "            print(f\"索引載入失敗: {str(e)}\")\n",
    "            return None\n",
    "\n",
    "    def load_local_db(self, local_db_path=None, embeddings=None):\n",
    "        #載入完整的向量資料庫\n",
    "        # embeddings = HuggingFaceEmbeddings(\n",
    "        #     model_name=\"sentence-transformers/paraphrase-multilingual-mpnet-base-v2\"\n",
    "        # )\n",
    "        try:\n",
    "            db = LangchainFAISS.load_local(\n",
    "                folder_path=local_db_path,\n",
    "                embeddings=embeddings,\n",
    "                allow_dangerous_deserialization=True  # 必要安全參數\n",
    "            )\n",
    "            print(f\"載入成功，共 {db.index.ntotal} 筆技術問答\")\n",
    "            return db\n",
    "        except Exception as e:\n",
    "            print(f\"向量庫載入異常: {str(e)}\")\n",
    "            return None\n",
    "            \n",
    "    def __init__(self, faiss_index_path, vector_db_path, k=3):\n",
    "        super().__init__()\n",
    "        self.k = k\n",
    "        # Load the FAISS index\n",
    "        self.index = self.load_index(faiss_index_path);\n",
    "        # Load the vector store\n",
    "        self.embeddings = HuggingFaceEmbeddings(\n",
    "            model_name=\"sentence-transformers/paraphrase-multilingual-mpnet-base-v2\"\n",
    "        )\n",
    "        self.vector_db = self.load_local_db(vector_db_path, self.embeddings);\n",
    "        # self.vector_db = LangchainFAISS.load_local(\n",
    "        #     vector_db_path,\n",
    "        #     self.embeddings\n",
    "        # )\n",
    "        # Initialize the sentence transformer\n",
    "        self.model = SentenceTransformer(\"paraphrase-multilingual-MiniLM-L12-v2\")\n",
    "    \n",
    "    def __call__(self, query):\n",
    "        # Encode the query\n",
    "        query_embedding = self.model.encode(\n",
    "            query,\n",
    "            convert_to_tensor=True,\n",
    "            show_progress_bar=True\n",
    "        )\n",
    "        \n",
    "        # Search in vector DB\n",
    "        docs = self.vector_db.similarity_search_with_score(query, k=self.k)\n",
    "        \n",
    "        # Format results\n",
    "        passages = []\n",
    "        for doc, score in docs:\n",
    "            context = doc.page_content\n",
    "            metadata = doc.metadata\n",
    "            formatted_context = f\"{context}\\nSource: {metadata['source']}\\nLast Updated: {metadata['last_updated']}\"\n",
    "            passages.append(formatted_context)\n",
    "        \n",
    "        return dspy.Prediction(passages=passages)\n",
    "\n",
    "# 2. Setup DSPy with custom retriever\n",
    "def setup_retriever(faiss_index_path, vector_db_path):\n",
    "    retriever = CustomFAISSRetriever(faiss_index_path, vector_db_path)\n",
    "    return retriever\n",
    "\n",
    "# 3. Simple search function\n",
    "def search_similar_questions(retriever, question):\n",
    "    results = retriever(question)\n",
    "    return results.passages\n",
    "\n",
    "def main():\n",
    "    # try:\n",
    "    # Initialize retriever\n",
    "    retriever = setup_retriever(\n",
    "        faiss_index_path=\"./db/qa_index.faiss\",\n",
    "        vector_db_path=\"./db/tech_support_faiss\"\n",
    "    )\n",
    "    \n",
    "    # Test question\n",
    "    question = \"how to deal with system error?\"\n",
    "    results = search_similar_questions(retriever, question)\n",
    "    \n",
    "    print(f\"問題: {question}\")\n",
    "    print(\"\\n相關文件:\")\n",
    "    for i, result in enumerate(results, 1):\n",
    "        print(f\"\\n--- 文件 {i} ---\")\n",
    "        print(result)\n",
    "            \n",
    "    # except Exception as e:\n",
    "    #     print(f\"錯誤: {str(e)}\")\n",
    "\n",
    "if __name__ == \"__main__\":\n",
    "    main()\n"
   ]
  },
  {
   "cell_type": "code",
   "execution_count": null,
   "id": "976826d5-23d5-4bb9-9efd-429853cec009",
   "metadata": {},
   "outputs": [],
   "source": []
  }
 ],
 "metadata": {
  "kernelspec": {
   "display_name": "Python 3 (ipykernel)",
   "language": "python",
   "name": "python3"
  },
  "language_info": {
   "codemirror_mode": {
    "name": "ipython",
    "version": 3
   },
   "file_extension": ".py",
   "mimetype": "text/x-python",
   "name": "python",
   "nbconvert_exporter": "python",
   "pygments_lexer": "ipython3",
   "version": "3.11.11"
  }
 },
 "nbformat": 4,
 "nbformat_minor": 5
}
