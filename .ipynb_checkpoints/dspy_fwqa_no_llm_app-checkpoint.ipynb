{
 "cells": [
  {
   "cell_type": "code",
   "execution_count": 2,
   "id": "fc683aa6-8190-4d72-978f-6aaffadfad88",
   "metadata": {},
   "outputs": [],
   "source": [
    "import dspy\n",
    "import faiss\n",
    "import numpy as np\n",
    "from transformers import AutoTokenizer, AutoModelForCausalLM\n",
    "import torch\n",
    "from sentence_transformers import SentenceTransformer\n",
    "from langchain.vectorstores import FAISS as LangchainFAISS\n",
    "from langchain_huggingface import HuggingFaceEmbeddings\n",
    "import pandas as pd\n",
    "# from langchain.embeddings import HuggingFaceEmbeddings\n",
    "# from langchain_community.vectorstores import FAISS"
   ]
  },
  {
   "cell_type": "code",
   "execution_count": 3,
   "id": "0557d3af-ebb9-4eb2-9be1-5c11369d2ba3",
   "metadata": {},
   "outputs": [],
   "source": [
    "# !pip install dspy-ai transformers torch faiss-cpu sentence-transformers langchain"
   ]
  },
  {
   "cell_type": "code",
   "execution_count": 4,
   "id": "fe4687d7-1179-4730-bd5d-ffc39d2a898a",
   "metadata": {},
   "outputs": [],
   "source": [
    "class CustomFAISSRetriever(dspy.Retrieve):\n",
    "    def load_index(self, idx_path=None):\n",
    "        try:\n",
    "            index = faiss.read_index(idx_path)\n",
    "            print(f\"成功載入FAISS索引，包含 {index.ntotal} 個向量\")\n",
    "            return index\n",
    "        except Exception as e:\n",
    "            print(f\"索引載入失敗: {str(e)}\")\n",
    "            return None\n",
    "\n",
    "    def load_local_db(self, local_db_path=None, embeddings=None):\n",
    "        try:\n",
    "            db = LangchainFAISS.load_local(\n",
    "                folder_path=local_db_path,\n",
    "                embeddings=embeddings,\n",
    "                allow_dangerous_deserialization=True\n",
    "            )\n",
    "            print(f\"載入成功，共 {db.index.ntotal} 筆技術問答\")\n",
    "            return db\n",
    "        except Exception as e:\n",
    "            print(f\"向量庫載入異常: {str(e)}\")\n",
    "            return None\n",
    "            \n",
    "    def __init__(self, faiss_index_path, vector_db_path, k=2):\n",
    "        super().__init__()\n",
    "        self.k = k\n",
    "        # 使用同一個模型名稱\n",
    "        self.model_name = \"sentence-transformers/paraphrase-multilingual-mpnet-base-v2\"\n",
    "        \n",
    "        # 初始化 embeddings\n",
    "        self.embeddings = HuggingFaceEmbeddings(\n",
    "            model_name=self.model_name\n",
    "        )\n",
    "        \n",
    "        # 載入 FAISS 索引\n",
    "        self.index = self.load_index(faiss_index_path)\n",
    "        \n",
    "        # 載入向量庫\n",
    "        # self.vector_db = self.load_local_db(vector_db_path, self.embeddings)\n",
    "        \n",
    "        # 使用相同的模型進行查詢編碼\n",
    "        self.model = SentenceTransformer(self.model_name)\n",
    "    \n",
    "    def __call__(self, query):\n",
    "        # 編碼查詢\n",
    "        query_embedding = self.model.encode(\n",
    "            query,\n",
    "            convert_to_tensor=False,\n",
    "            show_progress_bar=False  # 對單一查詢關閉進度條\n",
    "        )\n",
    "        query_embedding = query_embedding.reshape(-1,1).T\n",
    "        # query_embedding = query_embedding.cpu().numpy()\n",
    "        query_embedding = query_embedding.astype(np.float32)\n",
    "        \n",
    "        # 搜索向量庫\n",
    "        # docs = self.vector_db.similarity_search_with_score(query_embedding, k=self.k)\n",
    "        distance,pos = self.index.search(query_embedding, k=self.k)\n",
    "        print(distance)\n",
    "        print(pos)\n",
    "        # return the pos for retrieving data from answers\n",
    "        return pos;\n",
    "\n",
    "def setup_retriever(faiss_index_path, vector_db_path):\n",
    "    retriever = CustomFAISSRetriever(faiss_index_path, vector_db_path)\n",
    "    return retriever\n",
    "\n",
    "def search_similar_questions(retriever, question):\n",
    "    results = retriever(question)\n",
    "    return results\n"
   ]
  },
  {
   "cell_type": "code",
   "execution_count": 5,
   "id": "5364d307-b764-45d0-b1ff-a9d1ede077a6",
   "metadata": {},
   "outputs": [
    {
     "name": "stdout",
     "output_type": "stream",
     "text": [
      "成功載入FAISS索引，包含 145 個向量\n"
     ]
    }
   ],
   "source": [
    "#Global variables: just easy for demo, avoid writing codes like this\n",
    "# initialize the necessary variables\n",
    "qKey = \"Question\"\n",
    "qAns = \"Answer\"\n",
    "df = pd.read_csv(\"./data/qa.csv\");\n",
    "df_clean = df.groupby(qKey)[qAns].apply(lambda x: '\\n'.join(x.unique())).reset_index()\n",
    "retriever = setup_retriever(\n",
    "        faiss_index_path=\"./db2/q_index.faiss\",\n",
    "        vector_db_path=\"./db2/qa_vecdb_faiss_new/\"\n",
    ")"
   ]
  },
  {
   "cell_type": "code",
   "execution_count": 6,
   "id": "976826d5-23d5-4bb9-9efd-429853cec009",
   "metadata": {},
   "outputs": [],
   "source": [
    "def main(query:str=None):\n",
    "    _pos = search_similar_questions(retriever, query)\n",
    "    print(f\"問題: {query}\")\n",
    "    print(\"\\n相關文件:\")\n",
    "    for i in _pos[0]:\n",
    "        print(f\"{i}:\\n{df_clean[qAns][i]}\")\n",
    "    # for i, result in enumerate(results, 1):\n",
    "    #     print(f\"\\n--- 文件 {i} ---\")\n",
    "    #     print(result)"
   ]
  },
  {
   "cell_type": "markdown",
   "id": "eadcbd5d-b531-4f9e-b895-0c8d0f162080",
   "metadata": {},
   "source": [
    "### variations of \"How can we fix the BSOD problem when flashing the BIOS under the OS?\"\n",
    "- Technical/Formal Variations:\n",
    "    What solutions exist for preventing Blue Screen of Death errors during OS-based BIOS updates?\n",
    "    How do we resolve system crashes that occur while updating BIOS from within the operating system?\n",
    "    What are the methods to avoid BSOD issues during in-OS BIOS flashing procedures?\n",
    "    What steps can be taken to prevent system failures when performing BIOS updates through the OS?\n",
    "    More Descriptive Variations:\n",
    "    How can we avoid system crashes when updating motherboard firmware through Windows?\n",
    "    What's the best way to prevent blue screens while flashing system BIOS from within Windows?\n",
    "    How do we troubleshoot Blue Screen of Death errors that happen during BIOS updates?\n",
    "    What precautions can prevent system failures during OS-based BIOS flashing?\n",
    "- Action-Oriented Variations:\n",
    "    What troubleshooting steps should we take when BSOD occurs during BIOS updates?\n",
    "    How do we safely update BIOS through the operating system without encountering blue screens?\n",
    "    What measures prevent BSODs from occurring during in-OS BIOS flashing?\n",
    "    How can we ensure stable BIOS updates without experiencing system crashes?\n",
    "- User-Friendly Variations:\n",
    "    How do I stop my computer from crashing when updating BIOS through Windows?\n",
    "    What can I do to prevent blue screens while updating my computer's BIOS?\n",
    "    How to avoid system crashes when flashing motherboard BIOS in Windows?\n",
    "    What's the safest way to update BIOS without getting the dreaded blue screen?\n",
    "- Question Format Variations:\n",
    "    Is there a way to prevent BSODs during OS-based BIOS updates?\n",
    "    What causes BSOD during BIOS flashing, and how can we prevent it?\n",
    "    Are there reliable methods to avoid system crashes when updating BIOS through the OS?\n",
    "    Which approaches work best for preventing blue screens during BIOS updates?"
   ]
  },
  {
   "cell_type": "code",
   "execution_count": 7,
   "id": "bb6e3c01-1429-496c-894e-536557e6e73e",
   "metadata": {},
   "outputs": [
    {
     "name": "stdout",
     "output_type": "stream",
     "text": [
      "[[7.0610735e-12 1.4949601e+00]]\n",
      "[[56 47]]\n",
      "問題: How can we fix the BSOD problem when flashing the BIOS under the OS?\n",
      "\n",
      "相關文件:\n",
      "56:\n",
      "Modify the following sections in the original code:\n",
      "\n",
      "# ELINK\n",
      "#    Name        = \"EmdoorSmiFlashPreUpdate\"\n",
      "#    Parent      = \"SMIFlashPreUpdateList\"\n",
      "#    InvokeOrder = AfterParent\n",
      "#    Token       = \"EmdoorSmmLib_INF_SUPPORT\" = \"1\"\n",
      "# End\n",
      "\n",
      "# ELINK\n",
      "#    Name        = \"EmdoorSmiFlashEndUpdate\"\n",
      "#    Parent      = \"SMIFlashEndUpdateList\"\n",
      "#    InvokeOrder = AfterParent\n",
      "#    Token       = \"EmdoorSmmLib_INF_SUPPORT\" = \"1\"\n",
      "# End\n",
      "47:\n",
      "Revise the code to configure the Flash BIOS update sequence to prevent BSOD issues occurring under the operating system.\n"
     ]
    }
   ],
   "source": [
    "question = \"How can we fix the BSOD problem when flashing the BIOS under the OS?\"\n",
    "main(query=question);"
   ]
  },
  {
   "cell_type": "code",
   "execution_count": 8,
   "id": "d49180cb-75a7-4300-94e0-186bb3cce6db",
   "metadata": {},
   "outputs": [
    {
     "name": "stdout",
     "output_type": "stream",
     "text": [
      "[[6.323574  7.0279055]]\n",
      "[[56 71]]\n",
      "問題: What solutions exist for preventing Blue Screen of Death errors during OS-based BIOS updates?\n",
      "\n",
      "相關文件:\n",
      "56:\n",
      "Modify the following sections in the original code:\n",
      "\n",
      "# ELINK\n",
      "#    Name        = \"EmdoorSmiFlashPreUpdate\"\n",
      "#    Parent      = \"SMIFlashPreUpdateList\"\n",
      "#    InvokeOrder = AfterParent\n",
      "#    Token       = \"EmdoorSmmLib_INF_SUPPORT\" = \"1\"\n",
      "# End\n",
      "\n",
      "# ELINK\n",
      "#    Name        = \"EmdoorSmiFlashEndUpdate\"\n",
      "#    Parent      = \"SMIFlashEndUpdateList\"\n",
      "#    InvokeOrder = AfterParent\n",
      "#    Token       = \"EmdoorSmmLib_INF_SUPPORT\" = \"1\"\n",
      "# End\n",
      "71:\n",
      "Revise the code to configure the Flash BIOS update sequence to prevent BSOD issues occurring under the operating system.\n"
     ]
    }
   ],
   "source": [
    "question2 = \"What solutions exist for preventing Blue Screen of Death errors during OS-based BIOS updates?\"\n",
    "main(query=question2);"
   ]
  },
  {
   "cell_type": "code",
   "execution_count": null,
   "id": "74603277-80c3-40b5-8d0d-c047d0e8030d",
   "metadata": {},
   "outputs": [],
   "source": []
  }
 ],
 "metadata": {
  "kernelspec": {
   "display_name": "Python 3 (ipykernel)",
   "language": "python",
   "name": "python3"
  },
  "language_info": {
   "codemirror_mode": {
    "name": "ipython",
    "version": 3
   },
   "file_extension": ".py",
   "mimetype": "text/x-python",
   "name": "python",
   "nbconvert_exporter": "python",
   "pygments_lexer": "ipython3",
   "version": "3.11.11"
  }
 },
 "nbformat": 4,
 "nbformat_minor": 5
}
